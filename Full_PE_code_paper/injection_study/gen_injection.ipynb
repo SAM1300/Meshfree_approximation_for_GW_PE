{
 "cells": [
  {
   "cell_type": "code",
   "execution_count": 23,
   "id": "9b55a855-276b-43ed-801c-0823aace6bae",
   "metadata": {},
   "outputs": [],
   "source": [
    "import numpy as np\n",
    "import matplotlib.pyplot as plt\n",
    "from pycbc.conversions import mass1_from_mchirp_eta, mass2_from_mchirp_eta, tau0_from_mass1_mass2, tau3_from_mass1_mass2, mass1_from_mchirp_q, mass2_from_mchirp_q, mass1_from_tau0_tau3, mass2_from_tau0_tau3, q_from_mass1_mass2, eta_from_q\n",
    "import random\n",
    "from pycbc.filter import sigmasq\n",
    "from scipy.linalg import svd\n",
    "from scipy.interpolate import CubicSpline, CubicHermiteSpline, interp1d, BarycentricInterpolator, krogh_interpolate, PchipInterpolator, Akima1DInterpolator\n",
    "from scipy import special\n",
    "from rbf.interpolate import RBFInterpolant\n",
    "#from rbf.interpolate import _objective\n",
    "from rbf.poly import mvmonos\n",
    "from pycbc.detector import Detector\n",
    "import h5py\n",
    "import pickle\n",
    "import matplotlib\n",
    "from pycbc.types.timeseries import TimeSeries\n",
    "from pycbc.types.array import complex_same_precision_as\n",
    "from pycbc.conversions import mchirp_from_mass1_mass2\n",
    "from pycbc.pnutils import get_final_freq\n",
    "from pycbc.waveform import get_fd_waveform\n",
    "from pycbc.filter.matchedfilter import get_cutoff_indices\n",
    "from pycbc.fft import ifft\n",
    "from pycbc.types import zeros\n",
    "from pycbc.types.frequencyseries import load_frequencyseries\n",
    "from pycbc.types.timeseries import load_timeseries\n",
    "from tqdm import tqdm\n",
    "from multiprocessing import Process\n",
    "from multiprocessing.pool import Pool\n",
    "from pycbc.inference.models.marginalized_gaussian_noise import MarginalizedPhaseGaussianNoise\n",
    "\n",
    "from gwosc.datasets import event_gps\n",
    "from pycbc.waveform.generator import FDomainDetFrameGenerator, FDomainCBCGenerator\n",
    "import statistics\n",
    "from functools import partial\n",
    "from concurrent.futures import ProcessPoolExecutor\n",
    "from pycbc import distributions\n",
    "from scipy.stats import truncnorm\n",
    "import copy\n",
    "from gwfast.waveforms import TaylorF2_RestrictedPN, IMRPhenomD_NRTidalv2, IMRPhenomD\n",
    "from gwfast.signal import GWSignal\n",
    "from gwfast.network import DetNet\n",
    "from fisherTools import CovMatr, compute_localization_region, check_covariance, fixParams\n",
    "import gwfast.gwfastGlobals as glob\n",
    "from scipy.stats import gaussian_kde\n",
    "from fisherTools import dMc_dm1, dMc_dm2\n",
    "\n",
    "\n",
    "from pycbc.frame.frame import read_frame\n",
    "from pycbc.filter import matched_filter, highpass, lowpass\n",
    "import matplotlib.pyplot as plt\n",
    "from pycbc.psd import interpolate, welch, inverse_spectrum_truncation\n",
    "from gwosc.datasets import event_gps\n",
    "import numpy as np\n",
    "from pycbc.waveform.generator import FDomainDetFrameGenerator, FDomainCBCGenerator\n",
    "from pycbc.waveform.waveform import get_fd_waveform, get_waveform_filter_length_in_time\n",
    "from pycbc.catalog import Merger\n",
    "from scipy import signal \n",
    "from pycbc.types.timeseries import TimeSeries\n",
    "from pycbc.pnutils import get_final_freq\n",
    "\n",
    "from pycbc import frame\n",
    "from pycbc import noise\n",
    "import pycbc.psd\n",
    "from pycbc.pnutils import f_SchwarzISCO"
   ]
  },
  {
   "cell_type": "code",
   "execution_count": 24,
   "id": "eb99d484-baca-4c72-bd0a-63db86217666",
   "metadata": {},
   "outputs": [
    {
     "name": "stdout",
     "output_type": "stream",
     "text": [
      "1187008882.4\n"
     ]
    }
   ],
   "source": [
    "f_low = 20  # low cutoff frequency\n",
    "\n",
    "f_high = 1600 # Largest frequency present in chirp signal or high cutoff frequency\n",
    "\n",
    "filter_order = 8\n",
    "\n",
    "\n",
    "tc = event_gps('GW170817') # Merger Time\n",
    "\n",
    "ifo = ['L1', 'H1', 'V1']\n",
    "print(tc)"
   ]
  },
  {
   "cell_type": "code",
   "execution_count": 25,
   "id": "bceeb8f4-3428-4762-b273-dbc7b98b4b98",
   "metadata": {},
   "outputs": [],
   "source": [
    "\n",
    "data = {}\n",
    "for i in range(len(ifo)):\n",
    "    \n",
    "    data[ifo[i]] = read_frame(\"{}-{}_LOSC_CLN_4_V1-1187007040-2048.gwf\".format(ifo[i][0], ifo[i]),\\\n",
    "                    '{}:LOSC-STRAIN'.format(ifo[i]),\n",
    "                   start_time= tc + 1,\n",
    "                   end_time= tc + 100,\n",
    "                   check_integrity=False)\n",
    "    "
   ]
  },
  {
   "cell_type": "code",
   "execution_count": 26,
   "id": "81f16105-827e-4097-8c23-d2bc32db3b5f",
   "metadata": {},
   "outputs": [],
   "source": [
    "psd = {}\n",
    "\n",
    "for i in range(len(ifo)):\n",
    "    \n",
    "    psd[ifo[i]] = data[ifo[i]].psd(2, avg_method = 'median-mean')\n",
    "    psd[ifo[i]] = interpolate(psd[ifo[i]], data[ifo[i]].to_frequencyseries().delta_f)\n",
    "    psd[ifo[i]] = inverse_spectrum_truncation(psd[ifo[i]],\\\n",
    "                                               int(2 * psd[ifo[i]].sample_rate), low_frequency_cutoff=15, trunc_method='hann')\n",
    "    #psd[ifo[i]].save(f'PSD_{ifo[i]}.txt')"
   ]
  },
  {
   "cell_type": "code",
   "execution_count": 27,
   "id": "e36a40e7-e0e3-4a40-9d91-54c7b85e8382",
   "metadata": {},
   "outputs": [
    {
     "name": "stdout",
     "output_type": "stream",
     "text": [
      "0.000244140625 4096.0\n"
     ]
    }
   ],
   "source": [
    "delta_t = data[ifo[0]].delta_t\n",
    "print(delta_t, 1/delta_t)\n",
    "tsamps = int(data[ifo[0]].duration/delta_t)\n",
    "noise_det = {}\n",
    "for i in range(len(ifo)):\n",
    "    noise_det[ifo[i]] = noise.gaussian.frequency_noise_from_psd(psd[ifo[i]], seed = 4)\n",
    "    \n"
   ]
  },
  {
   "cell_type": "code",
   "execution_count": null,
   "id": "d5911e4a-a7f5-4fd4-8561-ab0482485f11",
   "metadata": {},
   "outputs": [],
   "source": [
    "print(noise_det[ifo[0]])"
   ]
  },
  {
   "cell_type": "code",
   "execution_count": null,
   "id": "19f605d0-ae1f-4c84-a1d4-647f78c1a9c4",
   "metadata": {},
   "outputs": [],
   "source": []
  },
  {
   "cell_type": "code",
   "execution_count": 35,
   "id": "84f1cc5e-e983-46c5-965c-4608a8d26fcb",
   "metadata": {
    "tags": []
   },
   "outputs": [],
   "source": [
    "np.random.seed(0)\n",
    "params_sim = []\n",
    "while True:\n",
    "    m1 = (2.35 - 1)*np.random.rand(1) + 1\n",
    "    m2 = (2.35 - 1)*np.random.rand(1) + 1\n",
    "    chi1z = (0.05 - (-0.05))*np.random.rand(1) + (-0.05)\n",
    "    chi2z = (0.05 - (-0.05))*np.random.rand(1) + (-0.05)\n",
    "    distance = (200 - 10)*np.random.rand(1) + 10\n",
    "    inclination = (2*np.pi  - 0)*np.random.rand(1) + 0\n",
    "    ra = (2*np.pi - 0)*np.random.rand(1) + 0\n",
    "    dec = (np.pi/2 - (-np.pi/2))*np.random.rand(1) + (-np.pi/2)\n",
    "    \n",
    "    \n",
    "    params = {'approximant' : 'TaylorF2', 'mass1': m1[0], 'mass2': m2[0], 'spin1z': chi1z[0],\\\n",
    "          'spin2z': chi2z[0], 'distance': distance[0], 'ra': ra[0], 'dec': dec[0], \\\n",
    "          'inclination': inclination[0], 'tc': 1187008932.9, 'polarization': 0}\n",
    "    generator = FDomainDetFrameGenerator(FDomainCBCGenerator,\\\n",
    "                                         epoch = data[ifo[0]].start_time,\\\n",
    "                                         detectors = ifo, **params, f_lower = f_low,\\\n",
    "                                         delta_f = 1/data[ifo[0]].duration)\n",
    "    signal_det = generator.generate()\n",
    "    data_sim = {}\n",
    "    for i in range(len(ifo)):\n",
    "        signal_det[ifo[i]].resize(len(noise_det[ifo[i]]))\n",
    "        data_sim[ifo[i]] = signal_det[ifo[i]] + noise_det[ifo[i]]\n",
    "        \n",
    "    hp, hc = get_fd_waveform(approximant = params['approximant'], mass1 = params['mass1'], mass2 = params['mass2'], spin1z = params['spin1z'], spin2z = params['spin2z'],f_lower = f_low,\\\n",
    "                        delta_f = data_sim[ifo[0]].delta_f)\n",
    "    hp.resize(len(data_sim[ifo[0]]))\n",
    "    net_snr = 0\n",
    "    for i in range(len(ifo)):\n",
    "        snr = matched_filter(hp, data_sim[ifo[i]], psd=psd[ifo[i]], low_frequency_cutoff= 20.0)\n",
    "        snr = snr.crop(25, 0)\n",
    "        net_snr += abs(snr).max()**2\n",
    "    net_snr = np.sqrt(net_snr)\n",
    "    \n",
    "    if 10 < net_snr < 100:\n",
    "        params_sim.append([m1[0], m2[0], chi1z[0], chi2z[0], distance[0], inclination[0], ra[0], dec[0],net_snr])\n",
    "    \n",
    "    if len(params_sim) == 100:\n",
    "        break"
   ]
  },
  {
   "cell_type": "code",
   "execution_count": 36,
   "id": "5a01eaa1-efc9-46b5-bd3a-6db54b99b13a",
   "metadata": {},
   "outputs": [
    {
     "name": "stdout",
     "output_type": "stream",
     "text": [
      "[12.0743606  10.54098615 16.43387278 10.82679781 45.5783955  21.87330087\n",
      " 15.2713294  22.4035667  14.73358542 17.98318697 10.02007671 42.46367275\n",
      " 44.75669395 13.18353435 19.34380926 12.27634724 31.5461584  12.64769164\n",
      " 13.43744749 11.65959764 18.12686922 23.41200971 11.45111655 15.99193083\n",
      " 18.62121782 12.59495221 11.03368518 11.60601983 19.49287647 10.36322515\n",
      " 12.2642847  19.36143482 22.61158334 19.30750908 12.52076911 29.05110608\n",
      " 13.77106115 21.1838646  20.58164301 79.56992069 12.72692453 19.09029711\n",
      " 13.27755781 29.3960433  28.59278034 57.76237753 24.03875889 10.50495166\n",
      " 11.03179714 15.91377781 14.8013006  15.33313716 10.9852242  39.05666616\n",
      " 13.88616463 51.6010091  21.28626432 20.70726668 45.06154288 11.405732\n",
      " 19.98640412 10.99943176 19.32278078 38.95547055 17.16896618 12.16171799\n",
      " 15.73525692 13.87878681 17.42745321 63.1825368  11.01062497 12.53336126\n",
      " 19.59563917 37.38142603 19.42476596 10.84623549 11.94130605 14.16787439\n",
      " 19.94569489 66.30981145 21.39832484 18.72354596 10.19143855 16.42541276\n",
      " 57.53673437 10.71515153 26.56891734 10.0401808  14.53540271 29.11230821\n",
      " 22.0617417  14.96004321 16.28143983 80.60306815 14.86715792 70.00782976\n",
      " 20.61407313 16.30083332 10.29928392 27.42721755]\n"
     ]
    }
   ],
   "source": [
    "print(np.array(params_sim)[:, 8])"
   ]
  },
  {
   "cell_type": "code",
   "execution_count": null,
   "id": "038adf0a-3c5b-4764-b6e7-8bce9973f340",
   "metadata": {},
   "outputs": [],
   "source": []
  }
 ],
 "metadata": {
  "kernelspec": {
   "display_name": "pycbc_rbf_latest",
   "language": "python",
   "name": "pycbc_rbf_latest"
  },
  "language_info": {
   "codemirror_mode": {
    "name": "ipython",
    "version": 3
   },
   "file_extension": ".py",
   "mimetype": "text/x-python",
   "name": "python",
   "nbconvert_exporter": "python",
   "pygments_lexer": "ipython3",
   "version": "3.10.6"
  }
 },
 "nbformat": 4,
 "nbformat_minor": 5
}
