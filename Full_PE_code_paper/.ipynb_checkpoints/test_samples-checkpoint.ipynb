{
 "cells": [
  {
   "cell_type": "code",
   "execution_count": 2,
   "id": "daea4c72-e46d-41df-9d97-ee1520248607",
   "metadata": {},
   "outputs": [],
   "source": [
    "import json\n",
    "import h5py\n",
    "import types\n",
    "import numpy as np\n",
    "from tqdm import tqdm\n",
    "import matplotlib.pyplot as plt\n",
    "\n",
    "import pycbc\n",
    "from pycbc.detector import Detector\n",
    "from pycbc import noise\n",
    "import matplotlib.pyplot as plt\n",
    "from pycbc.types.frequencyseries import load_frequencyseries\n",
    "from pycbc.conversions import mass1_from_mchirp_q, mass2_from_mchirp_q\n",
    "from pycbc.waveform import get_waveform_filter_length_in_time as duration\n",
    "from pycbc.conversions import mass1_from_mchirp_eta, mass2_from_mchirp_eta\n",
    "from pycbc.conversions import mchirp_from_mass1_mass2, eta_from_mass1_mass2\n",
    "from pycbc.inference.models import MarginalizedPhaseGaussianNoise, GaussianNoise\n",
    "from pycbc.waveform.generator import (FDomainDetFrameGenerator, FDomainCBCGenerator)"
   ]
  },
  {
   "cell_type": "code",
   "execution_count": 18,
   "id": "5c610862-cfa9-41bf-ae3e-ff8723bc110b",
   "metadata": {},
   "outputs": [],
   "source": [
    "def generate_data(approximant, injection, fLow, fHigh, fSamp, ifos, tGPS, seed_noise):\n",
    "                \n",
    "    segLen = 360 \n",
    "\n",
    "    params = {'mass1': injection['mass1'], 'mass2': injection['mass2'], 'chi1z': injection['chi1z'], 'chi2z': injection['chi2z'], \\\n",
    "                                      'iota': injection['iota'], 'psi': 0, 'dL': injection['dL'], \\\n",
    "                                        'ra': injection['ra'], 'dec':injection['dec'], 'tStart': tGPS - segLen/2, 'trigTime': tGPS}\n",
    "    # no. of frequency samples\n",
    "    fLen = int(segLen*fSamp/2+1)\n",
    "\n",
    "    static_params = {'approximant': approximant, 'f_lower': fLow,\n",
    "                 'mass1': params['mass1'], 'mass2': params['mass2'],'spin1z': params['chi1z'], \n",
    "                 'spin2z': params['chi2z'], 'ra': params['ra'], 'dec': params['dec'],\n",
    "                 'polarization': params['psi'], 'distance': params['dL'], 'inclination': params['iota']}\n",
    "\n",
    "    variable_params = ['tc']\n",
    "    generator = FDomainDetFrameGenerator(FDomainCBCGenerator, params['tStart'], detectors=ifos,\n",
    "                                     variable_args=variable_params,\n",
    "                                     delta_f=1./segLen, **static_params)\n",
    "\n",
    "    signal = generator.generate(tc=params['trigTime'])\n",
    "\n",
    "    psds = {}\n",
    "    noise_dict = {}\n",
    "    htilde = {}\n",
    "    stilde = {}\n",
    "    snrs = {}\n",
    "\n",
    "    for ifo in ifos:\n",
    "\n",
    "        htilde[ifo] = signal[ifo]\n",
    "        psds[ifo] = load_frequencyseries('GW170817_strain.hdf', group='/data/psd_{}'.format(ifo))\n",
    "        htilde[ifo].resize(len(psds[ifo]))  # signal generated in frequency domain\n",
    "        noise_dict[ifo] = noise.gaussian.frequency_noise_from_psd(psds[ifo], seed=seed_noise)\n",
    "        stilde[ifo] = htilde[ifo] + noise_dict[ifo]  # data generated in frequency domain\n",
    "        hp, hc = pycbc.waveform.get_fd_waveform(approximant=approximant, mass1=params['mass1'], mass2=params['mass2'], \\\n",
    "                                                spin1z=params['chi1z'], spin2z = params['chi2z'], f_lower=fLow, f_final=fHigh, delta_f=1/segLen)\n",
    "\n",
    "        hp.resize(len(stilde[ifo]))\n",
    "        snrs[ifo] = pycbc.filter.matched_filter(hp, stilde[ifo], psd=psds[ifo],\n",
    "                                          low_frequency_cutoff=fLow, high_frequency_cutoff=fHigh)\n",
    "    \n",
    "    network_snr = np.sqrt(abs(snrs['L1'])**2 + abs(snrs['H1'])**2 + abs(snrs['V1'])**2).max()\n",
    "    print('network snr: {}'.format(network_snr))\n",
    "    \n",
    "    for ifo in ifos:\n",
    "        \n",
    "        stilde[ifo].save('injection_data_netsnr_%d.hdf'%network_snr, group='strain_{}'.format(ifo))\n",
    "        psds[ifo].save('injection_data_netsnr_%d.hdf'%network_snr, group='psd_{}'.format(ifo))\n",
    "        \n",
    "    file = h5py.File('injection_data_netsnr_%d.hdf'%network_snr, 'r+')\n",
    "    G = file.create_group('inj_params')\n",
    "    \n",
    "    for key, val in params.items():\n",
    "        G.create_dataset(key, data=np.array([val]))\n",
    "    file.create_dataset('seed_noise', data=np.array([seed_noise]))\n",
    "    file.create_dataset('network_snr', data=np.array([network_snr]))\n",
    "    file.close()\n",
    "         \n",
    "    return None\n"
   ]
  },
  {
   "cell_type": "code",
   "execution_count": 52,
   "id": "bc705d2a-cace-4859-b987-43aa734edda3",
   "metadata": {},
   "outputs": [
    {
     "name": "stdout",
     "output_type": "stream",
     "text": [
      "network snr: 50.00869622912624\n"
     ]
    }
   ],
   "source": [
    "approximant = 'TaylorF2'\n",
    "tGPS = 1187008882.4\n",
    "fLow = 20\n",
    "fHigh = 1600\n",
    "fSamp = 4096\n",
    "seed_noise = 0\n",
    "ifos = ['L1', 'H1', 'V1']\n",
    "\n",
    "#Detector('L1').optimal_orientation(tGPS)\n",
    "\n",
    "mass1, mass2, chi1z, chi2z, iota, ra, dec, dL = 1.4, 1.2, 0.02, 0.03, 0.7842, 1.14, 0.53, 25\n",
    "injection = dict(mass1=mass1, mass2=mass2, chi1z=chi1z, chi2z=chi2z, iota=iota, ra=ra, dec=dec, dL=dL)\n",
    "\n",
    "data_dict = generate_data(approximant, injection, fLow, fHigh, fSamp, ifos, tGPS, seed_noise)"
   ]
  },
  {
   "cell_type": "code",
   "execution_count": 53,
   "id": "0c3f0887-823f-4e1a-9a11-815d91307a02",
   "metadata": {},
   "outputs": [
    {
     "name": "stdout",
     "output_type": "stream",
     "text": [
      "network snr: 40.00559161715618\n"
     ]
    }
   ],
   "source": [
    "approximant = 'TaylorF2'\n",
    "tGPS = 1187008900.4\n",
    "fLow = 20\n",
    "fHigh = 1600\n",
    "fSamp = 4096\n",
    "seed_noise = 0\n",
    "ifos = ['L1', 'H1', 'V1']\n",
    "\n",
    "#Detector('L1').optimal_orientation(tGPS)\n",
    "\n",
    "mass1, mass2, chi1z, chi2z, iota, ra, dec, dL = 1.6, 1.2, -0.02, 0.03, 0.285, 0.64, 0.81, 40\n",
    "injection = dict(mass1=mass1, mass2=mass2, chi1z=chi1z, chi2z=chi2z, iota=iota, ra=ra, dec=dec, dL=dL)\n",
    "\n",
    "data_dict = generate_data(approximant, injection, fLow, fHigh, fSamp, ifos, tGPS, seed_noise)"
   ]
  },
  {
   "cell_type": "code",
   "execution_count": 54,
   "id": "27e56a9e-456f-45f0-abe6-9ea63cc7520d",
   "metadata": {},
   "outputs": [
    {
     "name": "stdout",
     "output_type": "stream",
     "text": [
      "network snr: 30.002469564276677\n"
     ]
    }
   ],
   "source": [
    "approximant = 'TaylorF2'\n",
    "tGPS = 1187008750.4\n",
    "fLow = 20\n",
    "fHigh = 1600\n",
    "fSamp = 4096\n",
    "seed_noise = 0\n",
    "ifos = ['L1', 'H1', 'V1']\n",
    "\n",
    "#Detector('L1').optimal_orientation(tGPS)\n",
    "\n",
    "mass1, mass2, chi1z, chi2z, iota, ra, dec, dL = 1.9, 1.4, -0.02, -0.03, 0.437, 0.135, 0.53, 40\n",
    "injection = dict(mass1=mass1, mass2=mass2, chi1z=chi1z, chi2z=chi2z, iota=iota, ra=ra, dec=dec, dL=dL)\n",
    "\n",
    "data_dict = generate_data(approximant, injection, fLow, fHigh, fSamp, ifos, tGPS, seed_noise)"
   ]
  },
  {
   "cell_type": "code",
   "execution_count": 55,
   "id": "e2a53620-5ca9-4e62-aa0c-91a2b58e027c",
   "metadata": {},
   "outputs": [
    {
     "name": "stdout",
     "output_type": "stream",
     "text": [
      "network snr: 20.007392296926994\n"
     ]
    }
   ],
   "source": [
    "approximant = 'TaylorF2'\n",
    "tGPS = 1187008750.4\n",
    "fLow = 20\n",
    "fHigh = 1600\n",
    "fSamp = 4096\n",
    "seed_noise = 0\n",
    "ifos = ['L1', 'H1', 'V1']\n",
    "\n",
    "#Detector('V1').optimal_orientation(tGPS)\n",
    "\n",
    "mass1, mass2, chi1z, chi2z, iota, ra, dec, dL = 1.6, 1.4, -0.02, -0.03, 0.208, 2.9, 0.76, 40\n",
    "injection = dict(mass1=mass1, mass2=mass2, chi1z=chi1z, chi2z=chi2z, iota=iota, ra=ra, dec=dec, dL=dL)\n",
    "\n",
    "data_dict = generate_data(approximant, injection, fLow, fHigh, fSamp, ifos, tGPS, seed_noise)"
   ]
  },
  {
   "cell_type": "code",
   "execution_count": 19,
   "id": "94827a03-61f5-44a0-b8f2-6dd5fcae4307",
   "metadata": {},
   "outputs": [
    {
     "name": "stdout",
     "output_type": "stream",
     "text": [
      "network snr: 10.009779441822054\n"
     ]
    }
   ],
   "source": [
    "approximant = 'TaylorF2'\n",
    "tGPS = 1187008550.4\n",
    "fLow = 20\n",
    "fHigh = 1600\n",
    "fSamp = 4096\n",
    "seed_noise = 0\n",
    "ifos = ['L1', 'H1', 'V1']\n",
    "\n",
    "#Detector('L1').optimal_orientation(1187008550.4)\n",
    "\n",
    "mass1, mass2, chi1z, chi2z, iota, ra, dec, dL = 1.9, 1.2, 0.02, 0.02, 0.657, 1.12, 0.53, 171\n",
    "injection = dict(mass1=mass1, mass2=mass2, chi1z=chi1z, chi2z=chi2z, iota=iota, ra=ra, dec=dec, dL=dL)\n",
    "\n",
    "data_dict = generate_data(approximant, injection, fLow, fHigh, fSamp, ifos, tGPS, seed_noise)"
   ]
  },
  {
   "cell_type": "code",
   "execution_count": null,
   "id": "49a23bec-8d0f-4911-8225-ff333257697f",
   "metadata": {},
   "outputs": [],
   "source": []
  },
  {
   "cell_type": "code",
   "execution_count": null,
   "id": "dc571a6f-5d29-4dc0-9ac6-99ea449df105",
   "metadata": {},
   "outputs": [],
   "source": []
  },
  {
   "cell_type": "code",
   "execution_count": null,
   "id": "fccaa3ef-85ff-43b8-9ffd-5287113f6943",
   "metadata": {},
   "outputs": [],
   "source": []
  },
  {
   "cell_type": "code",
   "execution_count": null,
   "id": "b377e32c-7d7c-43d0-8d47-fc91ef37c903",
   "metadata": {},
   "outputs": [],
   "source": []
  },
  {
   "cell_type": "code",
   "execution_count": null,
   "id": "70e67b02-1154-48df-b92e-d1e590c21643",
   "metadata": {},
   "outputs": [],
   "source": []
  }
 ],
 "metadata": {
  "kernelspec": {
   "display_name": "pycbc_rbf_latest",
   "language": "python",
   "name": "pycbc_rbf_latest"
  },
  "language_info": {
   "codemirror_mode": {
    "name": "ipython",
    "version": 3
   },
   "file_extension": ".py",
   "mimetype": "text/x-python",
   "name": "python",
   "nbconvert_exporter": "python",
   "pygments_lexer": "ipython3",
   "version": "3.10.6"
  }
 },
 "nbformat": 4,
 "nbformat_minor": 5
}
